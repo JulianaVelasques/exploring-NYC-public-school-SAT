{
 "cells": [
  {
   "cell_type": "markdown",
   "id": "fe0ea788-58dd-459e-8976-fafdb5c05c6d",
   "metadata": {},
   "source": [
    "![New York City schoolbus](../schoolbus.jpg)\n",
    "\n",
    "Photo by [Jannis Lucas](https://unsplash.com/@jannis_lucas) on [Unsplash](https://unsplash.com).\n",
    "<br>\n",
    "\n",
    "Every year, American high school students take SATs, which are standardized tests intended to measure literacy, numeracy, and writing skills. There are three sections - reading, math, and writing, each with a **maximum score of 800 points**. These tests are extremely important for students and colleges, as they play a pivotal role in the admissions process.\n",
    "\n",
    "Analyzing the performance of schools is important for a variety of stakeholders, including policy and education professionals, researchers, government, and even parents considering which school their children should attend. \n",
    "\n",
    "You have been provided with a dataset called `schools.csv`, which is previewed below.\n",
    "\n",
    "You have been tasked with answering three key questions about New York City (NYC) public school SAT performance."
   ]
  },
  {
   "cell_type": "markdown",
   "id": "dd150de7-1658-4220-835b-0d77c11b491e",
   "metadata": {},
   "source": [
    "## Questions:\n",
    "1. Which NYC schools have the best math results?\n",
    "2. What are the top 10 performing schools based on the combined SAT scores?\n",
    "3. Which single borough has the largest standard deviation in the combined SAT score?\n"
   ]
  },
  {
   "cell_type": "markdown",
   "id": "0a04d8c8-7539-4306-9a86-404a3a590a4e",
   "metadata": {},
   "source": [
    "# Data import and exploration\n",
    "Goal: Understand the dataset and identify potential data issues before analysis."
   ]
  },
  {
   "cell_type": "code",
   "execution_count": 1,
   "id": "d0eb4f16-5a99-460d-a5ba-706b7ef0bbe7",
   "metadata": {
    "executionCancelledAt": null,
    "executionTime": 47,
    "id": "bA5ajAmk7XH6",
    "lastExecutedAt": 1739394418690,
    "lastExecutedByKernel": "29558fe1-aba5-4b76-8af5-610fff0ba683",
    "lastScheduledRunId": null,
    "lastSuccessfullyExecutedCode": "# Re-run this cell \nimport pandas as pd\nimport matplotlib.pyplot as plt\n\n# Read in the data\nschools = pd.read_csv(\"schools.csv\")\n\n# Preview the data\nschools.head()",
    "outputsMetadata": {
     "0": {
      "height": 550,
      "tableState": {
       "customFilter": {
        "const": {
         "type": "boolean",
         "valid": true,
         "value": true
        },
        "id": "368dca46-c2dc-43c4-9a17-8c3bd397da4a",
        "nodeType": "const"
       },
       "quickFilterText": ""
      },
      "type": "dataFrame"
     }
    }
   },
   "outputs": [
    {
     "data": {
      "text/html": [
       "<div>\n",
       "<style scoped>\n",
       "    .dataframe tbody tr th:only-of-type {\n",
       "        vertical-align: middle;\n",
       "    }\n",
       "\n",
       "    .dataframe tbody tr th {\n",
       "        vertical-align: top;\n",
       "    }\n",
       "\n",
       "    .dataframe thead th {\n",
       "        text-align: right;\n",
       "    }\n",
       "</style>\n",
       "<table border=\"1\" class=\"dataframe\">\n",
       "  <thead>\n",
       "    <tr style=\"text-align: right;\">\n",
       "      <th></th>\n",
       "      <th>school_name</th>\n",
       "      <th>borough</th>\n",
       "      <th>building_code</th>\n",
       "      <th>average_math</th>\n",
       "      <th>average_reading</th>\n",
       "      <th>average_writing</th>\n",
       "      <th>percent_tested</th>\n",
       "    </tr>\n",
       "  </thead>\n",
       "  <tbody>\n",
       "    <tr>\n",
       "      <th>0</th>\n",
       "      <td>New Explorations into Science, Technology and ...</td>\n",
       "      <td>Manhattan</td>\n",
       "      <td>M022</td>\n",
       "      <td>657</td>\n",
       "      <td>601</td>\n",
       "      <td>601</td>\n",
       "      <td>NaN</td>\n",
       "    </tr>\n",
       "    <tr>\n",
       "      <th>1</th>\n",
       "      <td>Essex Street Academy</td>\n",
       "      <td>Manhattan</td>\n",
       "      <td>M445</td>\n",
       "      <td>395</td>\n",
       "      <td>411</td>\n",
       "      <td>387</td>\n",
       "      <td>78.9</td>\n",
       "    </tr>\n",
       "    <tr>\n",
       "      <th>2</th>\n",
       "      <td>Lower Manhattan Arts Academy</td>\n",
       "      <td>Manhattan</td>\n",
       "      <td>M445</td>\n",
       "      <td>418</td>\n",
       "      <td>428</td>\n",
       "      <td>415</td>\n",
       "      <td>65.1</td>\n",
       "    </tr>\n",
       "    <tr>\n",
       "      <th>3</th>\n",
       "      <td>High School for Dual Language and Asian Studies</td>\n",
       "      <td>Manhattan</td>\n",
       "      <td>M445</td>\n",
       "      <td>613</td>\n",
       "      <td>453</td>\n",
       "      <td>463</td>\n",
       "      <td>95.9</td>\n",
       "    </tr>\n",
       "    <tr>\n",
       "      <th>4</th>\n",
       "      <td>Henry Street School for International Studies</td>\n",
       "      <td>Manhattan</td>\n",
       "      <td>M056</td>\n",
       "      <td>410</td>\n",
       "      <td>406</td>\n",
       "      <td>381</td>\n",
       "      <td>59.7</td>\n",
       "    </tr>\n",
       "  </tbody>\n",
       "</table>\n",
       "</div>"
      ],
      "text/plain": [
       "                                         school_name    borough building_code  \\\n",
       "0  New Explorations into Science, Technology and ...  Manhattan          M022   \n",
       "1                               Essex Street Academy  Manhattan          M445   \n",
       "2                       Lower Manhattan Arts Academy  Manhattan          M445   \n",
       "3    High School for Dual Language and Asian Studies  Manhattan          M445   \n",
       "4      Henry Street School for International Studies  Manhattan          M056   \n",
       "\n",
       "   average_math  average_reading  average_writing  percent_tested  \n",
       "0           657              601              601             NaN  \n",
       "1           395              411              387            78.9  \n",
       "2           418              428              415            65.1  \n",
       "3           613              453              463            95.9  \n",
       "4           410              406              381            59.7  "
      ]
     },
     "execution_count": 1,
     "metadata": {},
     "output_type": "execute_result"
    }
   ],
   "source": [
    "# Re-run this cell \n",
    "import pandas as pd\n",
    "import matplotlib.pyplot as plt\n",
    "\n",
    "# Read in the data\n",
    "schools = pd.read_csv(\"../data/schools.csv\")\n",
    "\n",
    "# Preview the data\n",
    "schools.head()"
   ]
  },
  {
   "cell_type": "code",
   "execution_count": 2,
   "id": "d146f86e-a770-445c-ae05-e898c9c6a9b5",
   "metadata": {
    "executionCancelledAt": null,
    "executionTime": 51,
    "lastExecutedAt": 1739394418741,
    "lastExecutedByKernel": "29558fe1-aba5-4b76-8af5-610fff0ba683",
    "lastScheduledRunId": null,
    "lastSuccessfullyExecutedCode": "schools.describe()",
    "outputsMetadata": {
     "0": {
      "height": 550,
      "tableState": {
       "customFilter": {
        "const": {
         "type": "boolean",
         "valid": true,
         "value": true
        },
        "id": "368dca46-c2dc-43c4-9a17-8c3bd397da4a",
        "nodeType": "const"
       },
       "quickFilterText": ""
      },
      "type": "dataFrame"
     }
    }
   },
   "outputs": [
    {
     "data": {
      "text/html": [
       "<div>\n",
       "<style scoped>\n",
       "    .dataframe tbody tr th:only-of-type {\n",
       "        vertical-align: middle;\n",
       "    }\n",
       "\n",
       "    .dataframe tbody tr th {\n",
       "        vertical-align: top;\n",
       "    }\n",
       "\n",
       "    .dataframe thead th {\n",
       "        text-align: right;\n",
       "    }\n",
       "</style>\n",
       "<table border=\"1\" class=\"dataframe\">\n",
       "  <thead>\n",
       "    <tr style=\"text-align: right;\">\n",
       "      <th></th>\n",
       "      <th>average_math</th>\n",
       "      <th>average_reading</th>\n",
       "      <th>average_writing</th>\n",
       "      <th>percent_tested</th>\n",
       "    </tr>\n",
       "  </thead>\n",
       "  <tbody>\n",
       "    <tr>\n",
       "      <th>count</th>\n",
       "      <td>375.000000</td>\n",
       "      <td>375.000000</td>\n",
       "      <td>375.000000</td>\n",
       "      <td>355.000000</td>\n",
       "    </tr>\n",
       "    <tr>\n",
       "      <th>mean</th>\n",
       "      <td>432.944000</td>\n",
       "      <td>424.504000</td>\n",
       "      <td>418.458667</td>\n",
       "      <td>64.976338</td>\n",
       "    </tr>\n",
       "    <tr>\n",
       "      <th>std</th>\n",
       "      <td>71.952373</td>\n",
       "      <td>61.881069</td>\n",
       "      <td>64.548599</td>\n",
       "      <td>18.747634</td>\n",
       "    </tr>\n",
       "    <tr>\n",
       "      <th>min</th>\n",
       "      <td>317.000000</td>\n",
       "      <td>302.000000</td>\n",
       "      <td>284.000000</td>\n",
       "      <td>18.500000</td>\n",
       "    </tr>\n",
       "    <tr>\n",
       "      <th>25%</th>\n",
       "      <td>386.000000</td>\n",
       "      <td>386.000000</td>\n",
       "      <td>382.000000</td>\n",
       "      <td>50.950000</td>\n",
       "    </tr>\n",
       "    <tr>\n",
       "      <th>50%</th>\n",
       "      <td>415.000000</td>\n",
       "      <td>413.000000</td>\n",
       "      <td>403.000000</td>\n",
       "      <td>64.800000</td>\n",
       "    </tr>\n",
       "    <tr>\n",
       "      <th>75%</th>\n",
       "      <td>458.500000</td>\n",
       "      <td>445.000000</td>\n",
       "      <td>437.500000</td>\n",
       "      <td>79.600000</td>\n",
       "    </tr>\n",
       "    <tr>\n",
       "      <th>max</th>\n",
       "      <td>754.000000</td>\n",
       "      <td>697.000000</td>\n",
       "      <td>693.000000</td>\n",
       "      <td>100.000000</td>\n",
       "    </tr>\n",
       "  </tbody>\n",
       "</table>\n",
       "</div>"
      ],
      "text/plain": [
       "       average_math  average_reading  average_writing  percent_tested\n",
       "count    375.000000       375.000000       375.000000      355.000000\n",
       "mean     432.944000       424.504000       418.458667       64.976338\n",
       "std       71.952373        61.881069        64.548599       18.747634\n",
       "min      317.000000       302.000000       284.000000       18.500000\n",
       "25%      386.000000       386.000000       382.000000       50.950000\n",
       "50%      415.000000       413.000000       403.000000       64.800000\n",
       "75%      458.500000       445.000000       437.500000       79.600000\n",
       "max      754.000000       697.000000       693.000000      100.000000"
      ]
     },
     "execution_count": 2,
     "metadata": {},
     "output_type": "execute_result"
    }
   ],
   "source": [
    "schools.describe()"
   ]
  },
  {
   "cell_type": "code",
   "execution_count": 3,
   "id": "6ff8f2d5-4392-4bf6-846b-8f360e1a5c2d",
   "metadata": {
    "executionCancelledAt": null,
    "executionTime": 48,
    "lastExecutedAt": 1739394418789,
    "lastExecutedByKernel": "29558fe1-aba5-4b76-8af5-610fff0ba683",
    "lastScheduledRunId": null,
    "lastSuccessfullyExecutedCode": "schools.info()",
    "outputsMetadata": {
     "0": {
      "height": 311,
      "type": "stream"
     }
    }
   },
   "outputs": [
    {
     "name": "stdout",
     "output_type": "stream",
     "text": [
      "<class 'pandas.core.frame.DataFrame'>\n",
      "RangeIndex: 375 entries, 0 to 374\n",
      "Data columns (total 7 columns):\n",
      " #   Column           Non-Null Count  Dtype  \n",
      "---  ------           --------------  -----  \n",
      " 0   school_name      375 non-null    object \n",
      " 1   borough          375 non-null    object \n",
      " 2   building_code    375 non-null    object \n",
      " 3   average_math     375 non-null    int64  \n",
      " 4   average_reading  375 non-null    int64  \n",
      " 5   average_writing  375 non-null    int64  \n",
      " 6   percent_tested   355 non-null    float64\n",
      "dtypes: float64(1), int64(3), object(3)\n",
      "memory usage: 20.6+ KB\n"
     ]
    }
   ],
   "source": [
    "schools.info()"
   ]
  },
  {
   "cell_type": "markdown",
   "id": "9f4dc23d-6e1d-4914-a1cf-3c53fa510f2c",
   "metadata": {},
   "source": [
    "From the above info, we can notice that `percent_tested` has some null values because our dataframe has 375 entries but the `percent_tested` column has only 355. Another way to visualize the missing values:"
   ]
  },
  {
   "cell_type": "code",
   "execution_count": 4,
   "id": "db93d1d2-5a83-4662-adbd-e9a6b50637bf",
   "metadata": {
    "executionCancelledAt": null,
    "executionTime": 48,
    "lastExecutedAt": 1739394418837,
    "lastExecutedByKernel": "29558fe1-aba5-4b76-8af5-610fff0ba683",
    "lastScheduledRunId": null,
    "lastSuccessfullyExecutedCode": "schools.isna().sum()",
    "outputsMetadata": {
     "0": {
      "height": 550,
      "tableState": {
       "customFilter": {
        "const": {
         "type": "boolean",
         "valid": true,
         "value": true
        },
        "id": "368dca46-c2dc-43c4-9a17-8c3bd397da4a",
        "nodeType": "const"
       },
       "quickFilterText": ""
      },
      "type": "dataFrame"
     }
    }
   },
   "outputs": [
    {
     "data": {
      "text/plain": [
       "school_name         0\n",
       "borough             0\n",
       "building_code       0\n",
       "average_math        0\n",
       "average_reading     0\n",
       "average_writing     0\n",
       "percent_tested     20\n",
       "dtype: int64"
      ]
     },
     "execution_count": 4,
     "metadata": {},
     "output_type": "execute_result"
    }
   ],
   "source": [
    "schools.isna().sum()"
   ]
  },
  {
   "cell_type": "markdown",
   "id": "e05e60af-2c73-4a29-acd3-63c6ef6ccb28",
   "metadata": {},
   "source": [
    "We have 20 missing values in the `percent_tested` column. What can we do about it?"
   ]
  },
  {
   "cell_type": "markdown",
   "id": "526695f5-f2e9-49cf-86f4-9a233b396aba",
   "metadata": {},
   "source": [
    "# Data cleaning and preprocessing\n",
    "Goal: Ensure the dataset is clean and ready for analysis."
   ]
  },
  {
   "cell_type": "code",
   "execution_count": 5,
   "id": "a0e8bfcb-364d-4327-b6f9-9ca6e1eaaeb2",
   "metadata": {
    "executionCancelledAt": null,
    "executionTime": 56,
    "lastExecutedAt": 1739394418893,
    "lastExecutedByKernel": "29558fe1-aba5-4b76-8af5-610fff0ba683",
    "lastScheduledRunId": null,
    "lastSuccessfullyExecutedCode": "# create total_SAT_score column\nschools['total_SAT'] = schools[['average_math', 'average_reading', 'average_writing']].sum(axis=1)\nschools.head()",
    "outputsMetadata": {
     "0": {
      "height": 550,
      "tableState": {
       "customFilter": {
        "const": {
         "type": "boolean",
         "valid": true,
         "value": true
        },
        "id": "368dca46-c2dc-43c4-9a17-8c3bd397da4a",
        "nodeType": "const"
       },
       "quickFilterText": ""
      },
      "type": "dataFrame"
     }
    }
   },
   "outputs": [
    {
     "data": {
      "text/html": [
       "<div>\n",
       "<style scoped>\n",
       "    .dataframe tbody tr th:only-of-type {\n",
       "        vertical-align: middle;\n",
       "    }\n",
       "\n",
       "    .dataframe tbody tr th {\n",
       "        vertical-align: top;\n",
       "    }\n",
       "\n",
       "    .dataframe thead th {\n",
       "        text-align: right;\n",
       "    }\n",
       "</style>\n",
       "<table border=\"1\" class=\"dataframe\">\n",
       "  <thead>\n",
       "    <tr style=\"text-align: right;\">\n",
       "      <th></th>\n",
       "      <th>school_name</th>\n",
       "      <th>borough</th>\n",
       "      <th>building_code</th>\n",
       "      <th>average_math</th>\n",
       "      <th>average_reading</th>\n",
       "      <th>average_writing</th>\n",
       "      <th>percent_tested</th>\n",
       "      <th>total_SAT</th>\n",
       "    </tr>\n",
       "  </thead>\n",
       "  <tbody>\n",
       "    <tr>\n",
       "      <th>0</th>\n",
       "      <td>New Explorations into Science, Technology and ...</td>\n",
       "      <td>Manhattan</td>\n",
       "      <td>M022</td>\n",
       "      <td>657</td>\n",
       "      <td>601</td>\n",
       "      <td>601</td>\n",
       "      <td>NaN</td>\n",
       "      <td>1859</td>\n",
       "    </tr>\n",
       "    <tr>\n",
       "      <th>1</th>\n",
       "      <td>Essex Street Academy</td>\n",
       "      <td>Manhattan</td>\n",
       "      <td>M445</td>\n",
       "      <td>395</td>\n",
       "      <td>411</td>\n",
       "      <td>387</td>\n",
       "      <td>78.9</td>\n",
       "      <td>1193</td>\n",
       "    </tr>\n",
       "    <tr>\n",
       "      <th>2</th>\n",
       "      <td>Lower Manhattan Arts Academy</td>\n",
       "      <td>Manhattan</td>\n",
       "      <td>M445</td>\n",
       "      <td>418</td>\n",
       "      <td>428</td>\n",
       "      <td>415</td>\n",
       "      <td>65.1</td>\n",
       "      <td>1261</td>\n",
       "    </tr>\n",
       "    <tr>\n",
       "      <th>3</th>\n",
       "      <td>High School for Dual Language and Asian Studies</td>\n",
       "      <td>Manhattan</td>\n",
       "      <td>M445</td>\n",
       "      <td>613</td>\n",
       "      <td>453</td>\n",
       "      <td>463</td>\n",
       "      <td>95.9</td>\n",
       "      <td>1529</td>\n",
       "    </tr>\n",
       "    <tr>\n",
       "      <th>4</th>\n",
       "      <td>Henry Street School for International Studies</td>\n",
       "      <td>Manhattan</td>\n",
       "      <td>M056</td>\n",
       "      <td>410</td>\n",
       "      <td>406</td>\n",
       "      <td>381</td>\n",
       "      <td>59.7</td>\n",
       "      <td>1197</td>\n",
       "    </tr>\n",
       "  </tbody>\n",
       "</table>\n",
       "</div>"
      ],
      "text/plain": [
       "                                         school_name    borough building_code  \\\n",
       "0  New Explorations into Science, Technology and ...  Manhattan          M022   \n",
       "1                               Essex Street Academy  Manhattan          M445   \n",
       "2                       Lower Manhattan Arts Academy  Manhattan          M445   \n",
       "3    High School for Dual Language and Asian Studies  Manhattan          M445   \n",
       "4      Henry Street School for International Studies  Manhattan          M056   \n",
       "\n",
       "   average_math  average_reading  average_writing  percent_tested  total_SAT  \n",
       "0           657              601              601             NaN       1859  \n",
       "1           395              411              387            78.9       1193  \n",
       "2           418              428              415            65.1       1261  \n",
       "3           613              453              463            95.9       1529  \n",
       "4           410              406              381            59.7       1197  "
      ]
     },
     "execution_count": 5,
     "metadata": {},
     "output_type": "execute_result"
    }
   ],
   "source": [
    "# create total_SAT_score column\n",
    "schools['total_SAT'] = schools[['average_math', 'average_reading', 'average_writing']].sum(axis=1)\n",
    "schools.head()"
   ]
  },
  {
   "cell_type": "code",
   "execution_count": 6,
   "id": "80a3ec0c-c751-41e2-a01d-60ad0b586fe2",
   "metadata": {
    "executionCancelledAt": null,
    "executionTime": 53,
    "lastExecutedAt": 1739394418946,
    "lastExecutedByKernel": "29558fe1-aba5-4b76-8af5-610fff0ba683",
    "lastScheduledRunId": null,
    "lastSuccessfullyExecutedCode": "missing_percentage = schools['percent_tested'].isna().sum() / len(schools['percent_tested']) * 100\nprint(\"Missing percentage:\", missing_percentage)",
    "outputsMetadata": {
     "0": {
      "height": 38,
      "type": "stream"
     }
    }
   },
   "outputs": [
    {
     "name": "stdout",
     "output_type": "stream",
     "text": [
      "Missing percentage: 5.333333333333334\n"
     ]
    }
   ],
   "source": [
    "missing_percentage = schools['percent_tested'].isna().sum() / len(schools['percent_tested']) * 100\n",
    "print(\"Missing percentage:\", missing_percentage)"
   ]
  },
  {
   "cell_type": "markdown",
   "id": "c6bc68c0-8cd2-4963-a1a4-76e529ad19ef",
   "metadata": {},
   "source": [
    "As we can see, only 5% percent of the column `percent_tested` is missing, so we can input a value and fill these empty entries or drop these rows from our dataset.\n",
    "But before deciding let's see if we find some pattern in the missing data:"
   ]
  },
  {
   "cell_type": "code",
   "execution_count": 7,
   "id": "ad2d39a7-eed7-4001-9e18-7c4c9f88458d",
   "metadata": {
    "executionCancelledAt": null,
    "executionTime": 265,
    "lastExecutedAt": 1739394419211,
    "lastExecutedByKernel": "29558fe1-aba5-4b76-8af5-610fff0ba683",
    "lastScheduledRunId": null,
    "lastSuccessfullyExecutedCode": "# Are the missing values concentrated in specific boroughs?\n# Filter only rows where 'percent_tested' is missing (normalized to percentage)\nmissing_boroughs = schools[schools['percent_tested'].isnull()]['borough'].value_counts(normalize=True) * 100\n\nmissing_boroughs.plot(kind='bar', figsize=(8, 5))\n\nplt.xlabel(\"Borough\")\nplt.ylabel(\"Percentage of Missing Values (%)\")\nplt.title(\"Distribution of Missing 'percent_tested' Values Across Boroughs\")\nplt.xticks(rotation=45)\nplt.show()",
    "outputsMetadata": {
     "0": {
      "height": 550,
      "tableState": {
       "customFilter": {
        "const": {
         "type": "boolean",
         "valid": true,
         "value": true
        },
        "id": "368dca46-c2dc-43c4-9a17-8c3bd397da4a",
        "nodeType": "const"
       },
       "quickFilterText": ""
      },
      "type": "dataFrame"
     }
    }
   },
   "outputs": [
    {
     "data": {
      "image/png": "[encoded data removed]",
      "text/plain": [
       "<Figure size 800x500 with 1 Axes>"
      ]
     },
     "metadata": {},
     "output_type": "display_data"
    }
   ],
   "source": [
    "# Are the missing values concentrated in specific boroughs?\n",
    "# Filter only rows where 'percent_tested' is missing (normalized to percentage)\n",
    "missing_boroughs = schools[schools['percent_tested'].isnull()]['borough'].value_counts(normalize=True) * 100\n",
    "\n",
    "missing_boroughs.plot(kind='bar', figsize=(8, 5), colormap='Pastel2')\n",
    "\n",
    "plt.xlabel(\"Borough\")\n",
    "plt.ylabel(\"Percentage of Missing Values (%)\")\n",
    "plt.title(\"Distribution of Missing 'percent_tested' Values Across Boroughs\")\n",
    "plt.xticks(rotation=45)\n",
    "plt.show()"
   ]
  },
  {
   "cell_type": "markdown",
   "id": "c5155e8b-8ab9-4131-b898-587853ef74a4",
   "metadata": {},
   "source": [
    "The chart above shows that almost 75% of the missing values are distributed equally between Manhattan, Bronx, and Brooklyn (25% for each). Now let's see how these missing values affect, proportionally by their size, each borough by creating another bar plot:"
   ]
  },
  {
   "cell_type": "code",
   "execution_count": 8,
   "id": "7104c122-c355-429a-851f-aa6b6e8a4205",
   "metadata": {
    "executionCancelledAt": null,
    "executionTime": 238,
    "lastExecutedAt": 1739394419449,
    "lastExecutedByKernel": "29558fe1-aba5-4b76-8af5-610fff0ba683",
    "lastScheduledRunId": null,
    "lastSuccessfullyExecutedCode": "# Count total bourough per borough\ntotal_boroughs = schools['borough'].value_counts()\n\n# Count missing values per borough\nmissing_percent_tested_per_borough = schools[schools['percent_tested'].isnull()]['borough'].value_counts()\n\n# Calculate missing value rate per borough\nmissing_rate = (missing_percent_tested_per_borough / total_boroughs) * 100\n\n# Plot\nmissing_rate.plot(kind='bar', figsize=(8, 5), alpha=0.85)\nplt.xlabel(\"Borough\")\nplt.ylabel(\"Missing Value Rate (%)\")\nplt.title(\"Percentage of Schools with Missing 'percent_tested' Per Borough\")\nplt.xticks(rotation=45)\nplt.show()"
   },
   "outputs": [
    {
     "data": {
      "image/png": "[encoded data removed]",
      "text/plain": [
       "<Figure size 800x500 with 1 Axes>"
      ]
     },
     "metadata": {},
     "output_type": "display_data"
    }
   ],
   "source": [
    "# Count total bourough per borough\n",
    "total_boroughs = schools['borough'].value_counts()\n",
    "\n",
    "# Count missing values per borough\n",
    "missing_percent_tested_per_borough = schools[schools['percent_tested'].isnull()]['borough'].value_counts()\n",
    "\n",
    "# Calculate missing value rate per borough\n",
    "missing_rate = (missing_percent_tested_per_borough / total_boroughs) * 100\n",
    "\n",
    "# Plot\n",
    "missing_rate.plot(kind='bar', figsize=(8, 5), colormap='Pastel1')\n",
    "plt.xlabel(\"Borough\")\n",
    "plt.ylabel(\"Missing Value Rate (%)\")\n",
    "plt.title(\"Percentage of Schools with Missing 'percent_tested' Per Borough\")\n",
    "plt.xticks(rotation=45)\n",
    "plt.show()"
   ]
  },
  {
   "cell_type": "markdown",
   "id": "7bf54914-91d1-4d56-abed-b4041a039ba3",
   "metadata": {},
   "source": [
    "We can notice that Staten Island is the most affected, proportionally, by the missing values. <br> So, to avoid the risk of missing 10% of the entries for this borough, let's input some values for this column for each borough by using the **Mean of the Borough**:"
   ]
  },
  {
   "cell_type": "code",
   "execution_count": 9,
   "id": "521261fb-3078-46ab-b5e2-22e77611af98",
   "metadata": {
    "executionCancelledAt": null,
    "executionTime": 52,
    "lastExecutedAt": 1739394419501,
    "lastExecutedByKernel": "29558fe1-aba5-4b76-8af5-610fff0ba683",
    "lastScheduledRunId": null,
    "lastSuccessfullyExecutedCode": "schools[\"percent_tested\"] = schools[\"percent_tested\"].fillna(schools.groupby(\"borough\")[\"percent_tested\"].transform('median'))"
   },
   "outputs": [],
   "source": [
    "schools[\"percent_tested\"] = schools[\"percent_tested\"].fillna(schools.groupby(\"borough\")[\"percent_tested\"].transform('median'))"
   ]
  },
  {
   "cell_type": "markdown",
   "id": "5c1dfffd-97dd-49b5-bea8-62d12414700c",
   "metadata": {},
   "source": [
    "I could use .apply to fill the missing values with the mean, but I read that using .tranform is more efficient. <br> Let's see the difference:"
   ]
  },
  {
   "cell_type": "markdown",
   "id": "0a15763e-3343-4725-997f-d1a8d6653c64",
   "metadata": {},
   "source": [
    "- `apply()`: Applies the function to each group and then reallocates the values in the column. Less efficient because it involves multiple steps.\n",
    "- `transform()`: Calculates a value for each group and returns a vector with the same size as the original column. More efficient and direct."
   ]
  },
  {
   "cell_type": "markdown",
   "id": "d263e1cd-7a05-4c05-8858-b9020a6e9682",
   "metadata": {},
   "source": [
    "Now, what is the percentage of missing values?"
   ]
  },
  {
   "cell_type": "code",
   "execution_count": 10,
   "id": "a9630bde-9afc-40d9-96ef-c88fcef3dc1d",
   "metadata": {
    "executionCancelledAt": null,
    "executionTime": 48,
    "lastExecutedAt": 1739394419549,
    "lastExecutedByKernel": "29558fe1-aba5-4b76-8af5-610fff0ba683",
    "lastScheduledRunId": null,
    "lastSuccessfullyExecutedCode": "missing_percentage = schools['percent_tested'].isna().sum() / len(schools['percent_tested']) * 100\nprint(\"Missing percentage:\", missing_percentage)",
    "outputsMetadata": {
     "0": {
      "height": 38,
      "type": "stream"
     }
    }
   },
   "outputs": [
    {
     "name": "stdout",
     "output_type": "stream",
     "text": [
      "Missing percentage: 0.0\n"
     ]
    }
   ],
   "source": [
    "missing_percentage = schools['percent_tested'].isna().sum() / len(schools['percent_tested']) * 100\n",
    "print(\"Missing percentage:\", missing_percentage)"
   ]
  },
  {
   "cell_type": "markdown",
   "id": "82e69820-7b0d-4d3c-bd6d-bad49e583c2b",
   "metadata": {},
   "source": [
    "Yey, now we are good to go!"
   ]
  },
  {
   "cell_type": "markdown",
   "id": "79981006-7c04-4b1a-a2b9-ab5958379097",
   "metadata": {},
   "source": [
    "# Answering the questions"
   ]
  },
  {
   "cell_type": "markdown",
   "id": "20530f13-efc3-4293-8391-f196eb4d9bf3",
   "metadata": {},
   "source": [
    "## 1 - Which NYC schools have the best math results?\n",
    "The best math results are at least 80% of the **maximum possible score of 800** for math."
   ]
  },
  {
   "cell_type": "code",
   "execution_count": 11,
   "id": "dc29898b-d4cb-49bb-9da0-b4591cbe70c9",
   "metadata": {
    "executionCancelledAt": null,
    "executionTime": 58,
    "lastExecutedAt": 1739394419607,
    "lastExecutedByKernel": "29558fe1-aba5-4b76-8af5-610fff0ba683",
    "lastScheduledRunId": null,
    "lastSuccessfullyExecutedCode": "minimum_math_best_score_schools = schools[schools[\"average_math\"] >= (0.8*800)]\n\nbest_math_schools = minimum_math_best_score_schools[[\"school_name\", \"average_math\"]].sort_values(by='average_math', ascending=False)\n\nbest_math_schools.head()",
    "outputsMetadata": {
     "0": {
      "height": 50,
      "tableState": {
       "customFilter": {
        "const": {
         "type": "boolean",
         "valid": true,
         "value": true
        },
        "id": "368dca46-c2dc-43c4-9a17-8c3bd397da4a",
        "nodeType": "const"
       },
       "quickFilterText": ""
      },
      "type": "dataFrame"
     }
    }
   },
   "outputs": [
    {
     "data": {
      "text/html": [
       "<div>\n",
       "<style scoped>\n",
       "    .dataframe tbody tr th:only-of-type {\n",
       "        vertical-align: middle;\n",
       "    }\n",
       "\n",
       "    .dataframe tbody tr th {\n",
       "        vertical-align: top;\n",
       "    }\n",
       "\n",
       "    .dataframe thead th {\n",
       "        text-align: right;\n",
       "    }\n",
       "</style>\n",
       "<table border=\"1\" class=\"dataframe\">\n",
       "  <thead>\n",
       "    <tr style=\"text-align: right;\">\n",
       "      <th></th>\n",
       "      <th>school_name</th>\n",
       "      <th>average_math</th>\n",
       "    </tr>\n",
       "  </thead>\n",
       "  <tbody>\n",
       "    <tr>\n",
       "      <th>88</th>\n",
       "      <td>Stuyvesant High School</td>\n",
       "      <td>754</td>\n",
       "    </tr>\n",
       "    <tr>\n",
       "      <th>170</th>\n",
       "      <td>Bronx High School of Science</td>\n",
       "      <td>714</td>\n",
       "    </tr>\n",
       "    <tr>\n",
       "      <th>93</th>\n",
       "      <td>Staten Island Technical High School</td>\n",
       "      <td>711</td>\n",
       "    </tr>\n",
       "    <tr>\n",
       "      <th>365</th>\n",
       "      <td>Queens High School for the Sciences at York Co...</td>\n",
       "      <td>701</td>\n",
       "    </tr>\n",
       "    <tr>\n",
       "      <th>68</th>\n",
       "      <td>High School for Mathematics, Science, and Engi...</td>\n",
       "      <td>683</td>\n",
       "    </tr>\n",
       "  </tbody>\n",
       "</table>\n",
       "</div>"
      ],
      "text/plain": [
       "                                           school_name  average_math\n",
       "88                              Stuyvesant High School           754\n",
       "170                       Bronx High School of Science           714\n",
       "93                 Staten Island Technical High School           711\n",
       "365  Queens High School for the Sciences at York Co...           701\n",
       "68   High School for Mathematics, Science, and Engi...           683"
      ]
     },
     "execution_count": 11,
     "metadata": {},
     "output_type": "execute_result"
    }
   ],
   "source": [
    "minimum_math_best_score_schools = schools[schools[\"average_math\"] >= (0.8*800)]\n",
    "\n",
    "best_math_schools = minimum_math_best_score_schools[[\"school_name\", \"average_math\"]].sort_values(by='average_math', ascending=False)\n",
    "\n",
    "best_math_schools.head()"
   ]
  },
  {
   "cell_type": "markdown",
   "id": "a3939597-9eff-43ef-b217-ab682b4761bf",
   "metadata": {},
   "source": [
    "The schools listed above are the ones with the best math results.\n",
    "The **Stuyvesant High School** have the best score for math. Good!"
   ]
  },
  {
   "cell_type": "markdown",
   "id": "163c4923-176b-4a1b-9689-c11f0f7416e9",
   "metadata": {},
   "source": [
    "## 2 - What are the top 10 performing schools based on the combined SAT scores?"
   ]
  },
  {
   "cell_type": "code",
   "execution_count": 12,
   "id": "fc155f25-72b0-40f0-9a59-ec3b162d2d47",
   "metadata": {
    "executionCancelledAt": null,
    "executionTime": 50,
    "lastExecutedAt": 1739394419657,
    "lastExecutedByKernel": "29558fe1-aba5-4b76-8af5-610fff0ba683",
    "lastScheduledRunId": null,
    "lastSuccessfullyExecutedCode": "top_10_schools = schools[[\"school_name\", \"total_SAT\"]].sort_values(by='total_SAT', ascending=False).iloc[0:10]\n\ntop_10_schools.head(10)",
    "outputsMetadata": {
     "0": {
      "height": 50,
      "tableState": {
       "customFilter": {
        "const": {
         "type": "boolean",
         "valid": true,
         "value": true
        },
        "id": "368dca46-c2dc-43c4-9a17-8c3bd397da4a",
        "nodeType": "const"
       },
       "quickFilterText": ""
      },
      "type": "dataFrame"
     }
    }
   },
   "outputs": [
    {
     "data": {
      "text/html": [
       "<div>\n",
       "<style scoped>\n",
       "    .dataframe tbody tr th:only-of-type {\n",
       "        vertical-align: middle;\n",
       "    }\n",
       "\n",
       "    .dataframe tbody tr th {\n",
       "        vertical-align: top;\n",
       "    }\n",
       "\n",
       "    .dataframe thead th {\n",
       "        text-align: right;\n",
       "    }\n",
       "</style>\n",
       "<table border=\"1\" class=\"dataframe\">\n",
       "  <thead>\n",
       "    <tr style=\"text-align: right;\">\n",
       "      <th></th>\n",
       "      <th>school_name</th>\n",
       "      <th>total_SAT</th>\n",
       "    </tr>\n",
       "  </thead>\n",
       "  <tbody>\n",
       "    <tr>\n",
       "      <th>88</th>\n",
       "      <td>Stuyvesant High School</td>\n",
       "      <td>2144</td>\n",
       "    </tr>\n",
       "    <tr>\n",
       "      <th>170</th>\n",
       "      <td>Bronx High School of Science</td>\n",
       "      <td>2041</td>\n",
       "    </tr>\n",
       "    <tr>\n",
       "      <th>93</th>\n",
       "      <td>Staten Island Technical High School</td>\n",
       "      <td>2041</td>\n",
       "    </tr>\n",
       "    <tr>\n",
       "      <th>174</th>\n",
       "      <td>High School of American Studies at Lehman College</td>\n",
       "      <td>2013</td>\n",
       "    </tr>\n",
       "    <tr>\n",
       "      <th>333</th>\n",
       "      <td>Townsend Harris High School</td>\n",
       "      <td>1981</td>\n",
       "    </tr>\n",
       "    <tr>\n",
       "      <th>365</th>\n",
       "      <td>Queens High School for the Sciences at York Co...</td>\n",
       "      <td>1947</td>\n",
       "    </tr>\n",
       "    <tr>\n",
       "      <th>5</th>\n",
       "      <td>Bard High School Early College</td>\n",
       "      <td>1914</td>\n",
       "    </tr>\n",
       "    <tr>\n",
       "      <th>280</th>\n",
       "      <td>Brooklyn Technical High School</td>\n",
       "      <td>1896</td>\n",
       "    </tr>\n",
       "    <tr>\n",
       "      <th>45</th>\n",
       "      <td>Eleanor Roosevelt High School</td>\n",
       "      <td>1889</td>\n",
       "    </tr>\n",
       "    <tr>\n",
       "      <th>68</th>\n",
       "      <td>High School for Mathematics, Science, and Engi...</td>\n",
       "      <td>1889</td>\n",
       "    </tr>\n",
       "  </tbody>\n",
       "</table>\n",
       "</div>"
      ],
      "text/plain": [
       "                                           school_name  total_SAT\n",
       "88                              Stuyvesant High School       2144\n",
       "170                       Bronx High School of Science       2041\n",
       "93                 Staten Island Technical High School       2041\n",
       "174  High School of American Studies at Lehman College       2013\n",
       "333                        Townsend Harris High School       1981\n",
       "365  Queens High School for the Sciences at York Co...       1947\n",
       "5                       Bard High School Early College       1914\n",
       "280                     Brooklyn Technical High School       1896\n",
       "45                       Eleanor Roosevelt High School       1889\n",
       "68   High School for Mathematics, Science, and Engi...       1889"
      ]
     },
     "execution_count": 12,
     "metadata": {},
     "output_type": "execute_result"
    }
   ],
   "source": [
    "top_10_schools = schools[[\"school_name\", \"total_SAT\"]].sort_values(by='total_SAT', ascending=False).iloc[0:10]\n",
    "\n",
    "top_10_schools.head(10)"
   ]
  },
  {
   "cell_type": "markdown",
   "id": "7f642738-4a9b-4d6e-b801-942d239b9f5a",
   "metadata": {},
   "source": [
    "We can see that **Stuyvesant High School** is not only the best in math, but is the best in general."
   ]
  },
  {
   "cell_type": "markdown",
   "id": "8cc94e76-ffbc-4096-a1da-e422b0fd9c7e",
   "metadata": {},
   "source": [
    "## 3 - Which single borough has the largest standard deviation in the combined SAT score?"
   ]
  },
  {
   "cell_type": "code",
   "execution_count": 13,
   "id": "f35f94e3-7b1c-4885-964b-cb54b87f0665",
   "metadata": {
    "executionCancelledAt": null,
    "executionTime": 61,
    "lastExecutedAt": 1739394419718,
    "lastExecutedByKernel": "29558fe1-aba5-4b76-8af5-610fff0ba683",
    "lastScheduledRunId": null,
    "lastSuccessfullyExecutedCode": "# Calculate the standard deviation of `total_SAT` for each borough\nstd_dev = schools.groupby(\"borough\")[\"total_SAT\"].std().sort_values(ascending=False)\n\n# Get the borough name with the largest std\nlargest_std_borough = std_dev.idxmax()\n\n# Get only the entries from that borough\ndf_largest_std_dev = schools[schools[\"borough\"]  == largest_std_borough]\n\n# create a DataFrame containing only the data for this borough.\nlargest_std_dev = pd.DataFrame({\n    \"borough\": [largest_std_borough],\n    \"num_schools\": [df_largest_std_dev[\"school_name\"].count().round(decimals=2)],\n    \"average_SAT\": [df_largest_std_dev[\"total_SAT\"].mean().round(decimals=2)],\n    \"std_SAT\": [std_dev.max().round(decimals=2)]\n})\n\nprint(largest_std_dev)",
    "outputsMetadata": {
     "0": {
      "height": 59,
      "type": "stream"
     }
    }
   },
   "outputs": [
    {
     "name": "stdout",
     "output_type": "stream",
     "text": [
      "     borough  num_schools  average_SAT  std_SAT\n",
      "0  Manhattan           89      1340.13   230.29\n"
     ]
    }
   ],
   "source": [
    "# Calculate the standard deviation of `total_SAT` for each borough\n",
    "std_dev = schools.groupby(\"borough\")[\"total_SAT\"].std().sort_values(ascending=False)\n",
    "\n",
    "# Get the borough name with the largest std\n",
    "largest_std_borough = std_dev.idxmax()\n",
    "\n",
    "# Get only the entries from that borough\n",
    "df_largest_std_dev = schools[schools[\"borough\"]  == largest_std_borough]\n",
    "\n",
    "# create a DataFrame containing only the data for this borough.\n",
    "largest_std_dev = pd.DataFrame({\n",
    "    \"borough\": [largest_std_borough],\n",
    "    \"num_schools\": [df_largest_std_dev[\"school_name\"].count().round(decimals=2)],\n",
    "    \"average_SAT\": [df_largest_std_dev[\"total_SAT\"].mean().round(decimals=2)],\n",
    "    \"std_SAT\": [std_dev.max().round(decimals=2)]\n",
    "})\n",
    "\n",
    "print(largest_std_dev)"
   ]
  },
  {
   "cell_type": "markdown",
   "id": "23926184-3b63-44d0-b2b7-4934d8f0f213",
   "metadata": {},
   "source": [
    "The standard deviation (`std_SAT`) measures how much SAT scores vary within a borough. A higher standard deviation means more variation in SAT scores among schools in that borough. <br>"
   ]
  },
  {
   "cell_type": "markdown",
   "id": "ec1829b5-d1dc-460c-b4e4-cec96d816c43",
   "metadata": {},
   "source": [
    "It may suggest that some schools in the Manhattan borough have very high SAT scores, while others have very low SAT scores.\n",
    "This could indicate inequality in education quality within the borough."
   ]
  }
 ],
 "metadata": {
  "editor": "DataLab",
  "kernelspec": {
   "display_name": "Python (my_env)",
   "language": "python",
   "name": "my_env"
  },
  "language_info": {
   "codemirror_mode": {
    "name": "ipython",
    "version": 3
   },
   "file_extension": ".py",
   "mimetype": "text/x-python",
   "name": "python",
   "nbconvert_exporter": "python",
   "pygments_lexer": "ipython3",
   "version": "3.12.1"
  }
 },
 "nbformat": 4,
 "nbformat_minor": 5
}
